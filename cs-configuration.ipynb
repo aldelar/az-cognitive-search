{
 "cells": [
  {
   "cell_type": "code",
   "execution_count": null,
   "metadata": {},
   "outputs": [],
   "source": [
    "import json, requests, time\n",
    "from pprint import pprint\n",
    "\n",
    "endpoint = '__SETUP__'\n",
    "api_version = '?api-version=2019-05-06'\n",
    "headers = {'Content-Type': 'application/json',\n",
    "        'api-key': '__SETUP__' }"
   ]
  },
  {
   "cell_type": "code",
   "execution_count": null,
   "metadata": {},
   "outputs": [],
   "source": [
    "# List indexes\n",
    "#url = endpoint + \"indexes\" + api_version + \"&$select=name\"\n",
    "#response  = requests.get(url, headers=headers)\n",
    "#index_list = response.json()\n",
    "#pprint(index_list)"
   ]
  },
  {
   "cell_type": "code",
   "execution_count": null,
   "metadata": {},
   "outputs": [],
   "source": [
    "# Retrieve Demo Index\n",
    "#demo_index_name = \"demoindex\"\n",
    "#url = endpoint + \"indexes/\" + demo_index_name + api_version\n",
    "#response = requests.get(url, headers=headers)\n",
    "#index_definition = response.json()\n",
    "#pprint(index_definition)"
   ]
  },
  {
   "cell_type": "code",
   "execution_count": null,
   "metadata": {},
   "outputs": [],
   "source": [
    "# Index Schema Definition\n",
    "cs_index_name = \"cs-index\"\n",
    "cs_index_definition = json.load(open(cs_index_name + '.json'))"
   ]
  },
  {
   "cell_type": "code",
   "execution_count": null,
   "metadata": {},
   "outputs": [],
   "source": [
    "# Delete Index\n",
    "url = endpoint + \"indexes/\" + cs_index_name + api_version\n",
    "response  = requests.delete(url, headers=headers)\n",
    "print(f\"Response Code: {response.status_code}\")"
   ]
  },
  {
   "cell_type": "code",
   "execution_count": null,
   "metadata": {},
   "outputs": [],
   "source": [
    "# Create Index\n",
    "url = endpoint + \"indexes\" + api_version\n",
    "response  = requests.post(url, headers=headers, json=cs_index_definition)\n",
    "print(f\"Response Code: {response.status_code}\")\n",
    "#print(response.json())"
   ]
  },
  {
   "cell_type": "code",
   "execution_count": null,
   "metadata": {},
   "outputs": [],
   "source": [
    "# Skillset definition\n",
    "cs_skillset_name = \"cs-skillset\"\n",
    "cs_skillset_definition = json.load(open(cs_skillset_name + '.json'))"
   ]
  },
  {
   "cell_type": "code",
   "execution_count": null,
   "metadata": {},
   "outputs": [],
   "source": [
    "# Delete skillset\n",
    "url = endpoint + \"skillsets/\" + cs_skillset_name + api_version\n",
    "response  = requests.delete(url, headers=headers)\n",
    "print(f\"Response Code: {response.status_code}\")"
   ]
  },
  {
   "cell_type": "code",
   "execution_count": null,
   "metadata": {},
   "outputs": [],
   "source": [
    "# Create Skillset\n",
    "url = endpoint + \"skillsets/\" + cs_skillset_name + api_version\n",
    "response  = requests.put(url, headers=headers,json=cs_skillset_definition)\n",
    "print(f\"Response Code: {response.status_code}\")\n",
    "#print(response.json())"
   ]
  },
  {
   "cell_type": "code",
   "execution_count": null,
   "metadata": {},
   "outputs": [],
   "source": [
    "# Indexer definition\n",
    "cs_indexer_name = \"cs-indexer\"\n",
    "cs_indexer_definition = json.load(open(cs_indexer_name + '.json'))"
   ]
  },
  {
   "cell_type": "code",
   "execution_count": null,
   "metadata": {},
   "outputs": [],
   "source": [
    "# Delete Indexer\n",
    "url = endpoint + \"indexers/\" + cs_indexer_name + api_version\n",
    "response = requests.delete(url, headers=headers)\n",
    "print(f\"Response Code: {response.status_code}\")"
   ]
  },
  {
   "cell_type": "code",
   "execution_count": null,
   "metadata": {},
   "outputs": [],
   "source": [
    "# Create Indexer\n",
    "url = endpoint + \"indexers/\" + cs_indexer_name + api_version \n",
    "response  = requests.put(url, headers=headers, json=cs_indexer_definition)\n",
    "print(f\"Response Code: {response.status_code}\")"
   ]
  },
  {
   "cell_type": "code",
   "execution_count": null,
   "metadata": {},
   "outputs": [],
   "source": [
    "# Get Indexer Status\n",
    "url = endpoint + \"indexers/\" + cs_indexer_name + \"/status\" + api_version\n",
    "response_json  = requests.get(url, headers=headers).json()\n",
    "while response_json['lastResult'] == None or response_json['lastResult']['status'] == 'inProgress':\n",
    "    print(f\"Indexer status: {response_json['status']}...\")\n",
    "    time.sleep(5)\n",
    "    response_json = requests.get(url, headers=headers).json()\n",
    "print(f\"Indexer status: {response_json['lastResult']['status']}\")\n",
    "print(f\"Indexer items failed: {response_json['lastResult']['itemsFailed']}\")\n",
    "print(f\"Indexer items processed: {response_json['lastResult']['itemsProcessed']}\")"
   ]
  },
  {
   "cell_type": "code",
   "execution_count": null,
   "metadata": {},
   "outputs": [],
   "source": [
    "# Search Index\n",
    "search_expression = \"*\"\n",
    "search_string = '&search=' + search_expression + '&$count=true'\n",
    "url = endpoint + \"indexes/\" + cs_index_name + \"/docs\" + api_version + search_string\n",
    "response  = requests.get(url, headers=headers, json=search_string)\n",
    "pprint(response.json())"
   ]
  },
  {
   "cell_type": "raw",
   "execution_count": null,
   "metadata": {},
   "outputs": [],
   "source": [
    "response"
   ]
  }
 ],
 "metadata": {
  "kernelspec": {
   "display_name": "Python 3",
   "language": "python",
   "name": "python3"
  },
  "language_info": {
   "codemirror_mode": {
    "name": "ipython",
    "version": 3
   },
   "file_extension": ".py",
   "mimetype": "text/x-python",
   "name": "python",
   "nbconvert_exporter": "python",
   "pygments_lexer": "ipython3",
   "version": "3.7.6-final"
  }
 },
 "nbformat": 4,
 "nbformat_minor": 1
}